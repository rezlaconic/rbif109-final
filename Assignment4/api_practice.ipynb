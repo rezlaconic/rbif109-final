{
 "cells": [
  {
   "cell_type": "code",
   "execution_count": 1,
   "metadata": {},
   "outputs": [],
   "source": [
    "import requests\n",
    "import json"
   ]
  },
  {
   "cell_type": "code",
   "execution_count": 2,
   "metadata": {},
   "outputs": [
    {
     "data": {
      "text/plain": [
       "{'took': 20,\n",
       " 'total': 1,\n",
       " 'max_score': 90.32827,\n",
       " 'hits': [{'_id': '4157',\n",
       "   '_score': 90.32827,\n",
       "   'ensembl': {'gene': 'ENSG00000258839'}}]}"
      ]
     },
     "execution_count": 2,
     "metadata": {},
     "output_type": "execute_result"
    }
   ],
   "source": [
    "'''query myGene for MC1R'''\n",
    "\n",
    "server = 'http://mygene.info/v3'\n",
    "gene_OI = 'MC1R' #gene of interest\n",
    "\n",
    "query_settings = 'fields=ensembl.gene&species=human&entrezonly=true&ensemblonly=true&size=1000'\n",
    "\n",
    "endpoint = f'/query?q={gene_OI}&{query_settings}'\n",
    "\n",
    "r = requests.get(server+endpoint)\n",
    "\n",
    "r = r.json()\n",
    "r\n",
    "#print(r)\n",
    "#write to json\n",
    "#with open(f'{gene_OI}_mygene_query.json','w') as jfile:\n",
    "#    jfile.write(json.dumps(r,indent=4)) \n",
    "\n",
    "\n",
    "\n"
   ]
  },
  {
   "cell_type": "code",
   "execution_count": 3,
   "metadata": {},
   "outputs": [
    {
     "data": {
      "text/plain": [
       "'ENSG00000258839'"
      ]
     },
     "execution_count": 3,
     "metadata": {},
     "output_type": "execute_result"
    }
   ],
   "source": [
    "r['hits'][0]['ensembl']['gene']"
   ]
  },
  {
   "cell_type": "code",
   "execution_count": 4,
   "metadata": {},
   "outputs": [
    {
     "data": {
      "text/plain": [
       "'ENSG00000258839'"
      ]
     },
     "execution_count": 4,
     "metadata": {},
     "output_type": "execute_result"
    }
   ],
   "source": [
    "def get_ENS_gene_id(gene,species='human'):\n",
    "    '''Take a gene of interest and return the ensembl gene id'''       \n",
    "    server = 'http://mygene.info/v3'\n",
    "    query_settings = f'fields=ensembl.gene&species={species}&entrezonly=true&ensemblonly=true&size=1000'\n",
    "    endpoint = f'/query?q={gene}&{query_settings}'\n",
    "    r = requests.get(server+endpoint)\n",
    "    r = r.json()\n",
    "    return r['hits'][0]['ensembl']['gene']\n",
    "\n",
    "\n",
    "get_ENS_gene_id('MC1R')"
   ]
  },
  {
   "cell_type": "code",
   "execution_count": 5,
   "metadata": {},
   "outputs": [],
   "source": [
    "'''Use ENS gene id to get longest ORF'''\n",
    "\n",
    "def get_ENS_gene_orf(geneID):\n",
    "    \n",
    "    ensembl_server = 'http://rest.ensembl.org'\n",
    "    #endpoint = f'/lookup/id/{human_ensembl_id}'\n",
    "    endpoint = f'/sequence/id/{human_ensembl_id}?context-type=text/plain'\n",
    "\n",
    "    r = requests.get(ensembl_server+endpoint, headers = json_header)\n",
    "    r = r.json()\n",
    "\n",
    "    '''Write to a FASTA'''\n",
    "    with open('.fasta','w') as fasta:\n",
    "        fasta.write('>MC1R\\n')\n",
    "        fasta.write(r['seq'])\n",
    "\n",
    "    len(r['seq'])\n",
    "    "
   ]
  },
  {
   "cell_type": "code",
   "execution_count": 13,
   "metadata": {},
   "outputs": [],
   "source": [
    "'''How to get homology information from ENS ID'''\n",
    "gene_id_ens = 'ENSG00000258839'\n",
    "\n",
    "ensembl_server = \"https://rest.ensembl.org\"\n",
    "endpoint = f\"/homology/id/{gene_id_ens}?\"\n",
    " \n",
    "r = requests.get(ensembl_server+endpoint, headers={ \"Content-Type\" : \"application/json\"})\n",
    "r = r.json()\n",
    "\n",
    "\n",
    "\n"
   ]
  },
  {
   "cell_type": "code",
   "execution_count": 12,
   "metadata": {},
   "outputs": [],
   "source": [
    "'''List out species ids from homology request'''\n",
    "r#['data']\n",
    "with open(f'homology.json','w') as jfile:\n",
    "    jfile.write(json.dumps(r,indent=4))\n"
   ]
  },
  {
   "cell_type": "code",
   "execution_count": 33,
   "metadata": {},
   "outputs": [
    {
     "name": "stdout",
     "output_type": "stream",
     "text": [
      "Found 148 unique species containing homologs of gene ENSG00000258839 \n"
     ]
    },
    {
     "data": {
      "text/plain": [
       "['sciurus_vulgaris',\n",
       " 'oncorhynchus_mykiss',\n",
       " 'capra_hircus',\n",
       " 'rhinolophus_ferrumequinum',\n",
       " 'sparus_aurata',\n",
       " 'mus_caroli',\n",
       " 'terrapene_carolina_triunguis',\n",
       " 'mus_spicilegus',\n",
       " 'gopherus_evgoodei',\n",
       " 'mus_spretus',\n",
       " 'kryptolebias_marmoratus',\n",
       " 'carlito_syrichta',\n",
       " 'cricetulus_griseus_chok1gshd',\n",
       " 'pongo_abelii',\n",
       " 'poecilia_reticulata',\n",
       " 'mastacembelus_armatus',\n",
       " 'tetraodon_nigroviridis',\n",
       " 'oncorhynchus_tshawytscha',\n",
       " 'bos_indicus_hybrid',\n",
       " 'pundamilia_nyererei',\n",
       " 'coturnix_japonica',\n",
       " 'aquila_chrysaetos_chrysaetos',\n",
       " 'panthera_leo',\n",
       " 'hippocampus_comes',\n",
       " 'hucho_hucho',\n",
       " 'monodon_monoceros',\n",
       " 'larimichthys_crocea',\n",
       " 'ornithorhynchus_anatinus',\n",
       " 'acanthochromis_polyacanthus',\n",
       " 'labrus_bergylta',\n",
       " 'salmo_trutta',\n",
       " 'fundulus_heteroclitus',\n",
       " 'pseudonaja_textilis',\n",
       " 'ailuropoda_melanoleuca',\n",
       " 'callorhinchus_milii',\n",
       " 'sander_lucioperca',\n",
       " 'oreochromis_niloticus',\n",
       " 'mus_musculus',\n",
       " 'seriola_lalandi_dorsalis',\n",
       " 'mesocricetus_auratus',\n",
       " 'poecilia_latipinna',\n",
       " 'papio_anubis',\n",
       " 'callithrix_jacchus',\n",
       " 'bos_mutus',\n",
       " 'eptatretus_burgeri',\n",
       " 'felis_catus',\n",
       " 'homo_sapiens',\n",
       " 'oryctolagus_cuniculus',\n",
       " 'vombatus_ursinus',\n",
       " 'electrophorus_electricus',\n",
       " 'amphilophus_citrinellus',\n",
       " 'anser_brachyrhynchus',\n",
       " 'cynoglossus_semilaevis',\n",
       " 'anabas_testudineus',\n",
       " 'macaca_fascicularis',\n",
       " 'xiphophorus_maculatus',\n",
       " 'nannospalax_galili',\n",
       " 'cyclopterus_lumpus',\n",
       " 'bos_taurus',\n",
       " 'aotus_nancymaae',\n",
       " 'stegastes_partitus',\n",
       " 'cyprinus_carpio_carpio',\n",
       " 'phascolarctos_cinereus',\n",
       " 'rattus_norvegicus',\n",
       " 'ovis_aries_rambouillet',\n",
       " 'rhinopithecus_bieti',\n",
       " 'astatotilapia_calliptera',\n",
       " 'sinocyclocheilus_grahami',\n",
       " 'strigops_habroptila',\n",
       " 'heterocephalus_glaber_female',\n",
       " 'clupea_harengus',\n",
       " 'bos_grunniens',\n",
       " 'lates_calcarifer',\n",
       " 'cyprinodon_variegatus',\n",
       " 'catagonus_wagneri',\n",
       " 'oncorhynchus_kisutch',\n",
       " 'ficedula_albicollis',\n",
       " 'leptobrachium_leishanense',\n",
       " 'chlorocebus_sabaeus',\n",
       " 'salmo_salar',\n",
       " 'anas_platyrhynchos_platyrhynchos',\n",
       " 'amphiprion_ocellaris',\n",
       " 'betta_splendens',\n",
       " 'taeniopygia_guttata',\n",
       " 'sarcophilus_harrisii',\n",
       " 'poecilia_formosa',\n",
       " 'vulpes_vulpes',\n",
       " 'ictidomys_tridecemlineatus',\n",
       " 'esox_lucius',\n",
       " 'scleropages_formosus',\n",
       " 'scophthalmus_maximus',\n",
       " 'balaenoptera_musculus',\n",
       " 'saimiri_boliviensis_boliviensis',\n",
       " 'sus_scrofa',\n",
       " 'notechis_scutatus',\n",
       " 'gallus_gallus',\n",
       " 'ursus_americanus',\n",
       " 'sphenodon_punctatus',\n",
       " 'meleagris_gallopavo',\n",
       " 'denticeps_clupeoides',\n",
       " 'naja_naja',\n",
       " 'marmota_marmota_marmota',\n",
       " 'monodelphis_domestica',\n",
       " 'bison_bison_bison',\n",
       " 'podarcis_muralis',\n",
       " 'chrysemys_picta_bellii',\n",
       " 'dicentrarchus_labrax',\n",
       " 'takifugu_rubripes',\n",
       " 'oryzias_melastigma',\n",
       " 'erpetoichthys_calabaricus',\n",
       " 'paramormyrops_kingsleyae',\n",
       " 'danio_rerio',\n",
       " 'myripristis_murdjan',\n",
       " 'ictalurus_punctatus',\n",
       " 'neovison_vison',\n",
       " 'lepisosteus_oculatus',\n",
       " 'struthio_camelus_australis',\n",
       " 'phocoena_sinus',\n",
       " 'seriola_dumerili',\n",
       " 'petromyzon_marinus',\n",
       " 'physeter_catodon',\n",
       " 'maylandia_zebra',\n",
       " 'gasterosteus_aculeatus',\n",
       " 'haplochromis_burtoni',\n",
       " 'macaca_mulatta',\n",
       " 'cottoperca_gobio',\n",
       " 'moschus_moschiferus',\n",
       " 'amphiprion_percula',\n",
       " 'pygocentrus_nattereri',\n",
       " 'dasypus_novemcinctus',\n",
       " 'cervus_hanglu_yarkandensis',\n",
       " 'xenopus_tropicalis',\n",
       " 'laticauda_laticaudata',\n",
       " 'gadus_morhua',\n",
       " 'cavia_porcellus',\n",
       " 'neolamprologus_brichardi',\n",
       " 'nothobranchius_furzeri',\n",
       " 'delphinapterus_leucas',\n",
       " 'oryzias_latipes',\n",
       " 'microcebus_murinus',\n",
       " 'oryzias_sinensis',\n",
       " 'macaca_nemestrina',\n",
       " 'chelonoidis_abingdonii',\n",
       " 'oryzias_javanicus',\n",
       " 'geospiza_fortis',\n",
       " 'salvator_merianae',\n",
       " 'mus_pahari',\n",
       " 'peromyscus_maniculatus_bairdii']"
      ]
     },
     "execution_count": 33,
     "metadata": {},
     "output_type": "execute_result"
    }
   ],
   "source": [
    "len(r['data'][0]['homologies']) #174 entries in homology list\n",
    "r['data'][0]['homologies'][0]['target']['species'] #gives homology data \n",
    "\n",
    "\n",
    "homologous_species_list = [ r['data'][0]['homologies'][i]['target']['species'] for i in range(0,len(r['data'][0]['homologies']))]\n",
    "homologous_species_list = list(set(homologous_species_list))\n",
    "\n",
    "print(f'Found {len(homologous_species_list)} unique species containing homologs of gene {gene_id_ens} ')\n",
    "homologous_species_list\n",
    "\n",
    "\n",
    "\n",
    "\n"
   ]
  },
  {
   "cell_type": "code",
   "execution_count": 36,
   "metadata": {},
   "outputs": [
    {
     "data": {
      "text/plain": [
       "['acanthochromis_polyacanthus',\n",
       " 'ailuropoda_melanoleuca',\n",
       " 'amphilophus_citrinellus',\n",
       " 'amphiprion_ocellaris',\n",
       " 'amphiprion_percula',\n",
       " 'anabas_testudineus',\n",
       " 'anas_platyrhynchos_platyrhynchos',\n",
       " 'anser_brachyrhynchus',\n",
       " 'aotus_nancymaae',\n",
       " 'aquila_chrysaetos_chrysaetos',\n",
       " 'astatotilapia_calliptera',\n",
       " 'balaenoptera_musculus',\n",
       " 'betta_splendens',\n",
       " 'bison_bison_bison',\n",
       " 'bos_grunniens',\n",
       " 'bos_indicus_hybrid',\n",
       " 'bos_mutus',\n",
       " 'bos_taurus',\n",
       " 'callithrix_jacchus',\n",
       " 'callorhinchus_milii',\n",
       " 'capra_hircus',\n",
       " 'carlito_syrichta',\n",
       " 'catagonus_wagneri',\n",
       " 'cavia_porcellus',\n",
       " 'cervus_hanglu_yarkandensis',\n",
       " 'chelonoidis_abingdonii',\n",
       " 'chlorocebus_sabaeus',\n",
       " 'chrysemys_picta_bellii',\n",
       " 'clupea_harengus',\n",
       " 'cottoperca_gobio',\n",
       " 'coturnix_japonica',\n",
       " 'cricetulus_griseus_chok1gshd',\n",
       " 'cyclopterus_lumpus',\n",
       " 'cynoglossus_semilaevis',\n",
       " 'cyprinodon_variegatus',\n",
       " 'cyprinus_carpio_carpio',\n",
       " 'danio_rerio',\n",
       " 'dasypus_novemcinctus',\n",
       " 'delphinapterus_leucas',\n",
       " 'denticeps_clupeoides',\n",
       " 'dicentrarchus_labrax',\n",
       " 'electrophorus_electricus',\n",
       " 'eptatretus_burgeri',\n",
       " 'erpetoichthys_calabaricus',\n",
       " 'esox_lucius',\n",
       " 'felis_catus',\n",
       " 'ficedula_albicollis',\n",
       " 'fundulus_heteroclitus',\n",
       " 'gadus_morhua',\n",
       " 'gallus_gallus',\n",
       " 'gasterosteus_aculeatus',\n",
       " 'geospiza_fortis',\n",
       " 'gopherus_evgoodei',\n",
       " 'haplochromis_burtoni',\n",
       " 'heterocephalus_glaber_female',\n",
       " 'hippocampus_comes',\n",
       " 'homo_sapiens',\n",
       " 'hucho_hucho',\n",
       " 'ictalurus_punctatus',\n",
       " 'ictidomys_tridecemlineatus',\n",
       " 'kryptolebias_marmoratus',\n",
       " 'labrus_bergylta',\n",
       " 'larimichthys_crocea',\n",
       " 'lates_calcarifer',\n",
       " 'laticauda_laticaudata',\n",
       " 'lepisosteus_oculatus',\n",
       " 'leptobrachium_leishanense',\n",
       " 'macaca_fascicularis',\n",
       " 'macaca_mulatta',\n",
       " 'macaca_nemestrina',\n",
       " 'marmota_marmota_marmota',\n",
       " 'mastacembelus_armatus',\n",
       " 'maylandia_zebra',\n",
       " 'meleagris_gallopavo',\n",
       " 'mesocricetus_auratus',\n",
       " 'microcebus_murinus',\n",
       " 'monodelphis_domestica',\n",
       " 'monodon_monoceros',\n",
       " 'moschus_moschiferus',\n",
       " 'mus_caroli',\n",
       " 'mus_musculus',\n",
       " 'mus_pahari',\n",
       " 'mus_spicilegus',\n",
       " 'mus_spretus',\n",
       " 'myripristis_murdjan',\n",
       " 'naja_naja',\n",
       " 'nannospalax_galili',\n",
       " 'neolamprologus_brichardi',\n",
       " 'neovison_vison',\n",
       " 'notechis_scutatus',\n",
       " 'nothobranchius_furzeri',\n",
       " 'oncorhynchus_kisutch',\n",
       " 'oncorhynchus_mykiss',\n",
       " 'oncorhynchus_tshawytscha',\n",
       " 'oreochromis_niloticus',\n",
       " 'ornithorhynchus_anatinus',\n",
       " 'oryctolagus_cuniculus',\n",
       " 'oryzias_javanicus',\n",
       " 'oryzias_latipes',\n",
       " 'oryzias_melastigma',\n",
       " 'oryzias_sinensis',\n",
       " 'ovis_aries_rambouillet',\n",
       " 'panthera_leo',\n",
       " 'papio_anubis',\n",
       " 'paramormyrops_kingsleyae',\n",
       " 'peromyscus_maniculatus_bairdii',\n",
       " 'petromyzon_marinus',\n",
       " 'phascolarctos_cinereus',\n",
       " 'phocoena_sinus',\n",
       " 'physeter_catodon',\n",
       " 'podarcis_muralis',\n",
       " 'poecilia_formosa',\n",
       " 'poecilia_latipinna',\n",
       " 'poecilia_reticulata',\n",
       " 'pongo_abelii',\n",
       " 'pseudonaja_textilis',\n",
       " 'pundamilia_nyererei',\n",
       " 'pygocentrus_nattereri',\n",
       " 'rattus_norvegicus',\n",
       " 'rhinolophus_ferrumequinum',\n",
       " 'rhinopithecus_bieti',\n",
       " 'saimiri_boliviensis_boliviensis',\n",
       " 'salmo_salar',\n",
       " 'salmo_trutta',\n",
       " 'salvator_merianae',\n",
       " 'sander_lucioperca',\n",
       " 'sarcophilus_harrisii',\n",
       " 'sciurus_vulgaris',\n",
       " 'scleropages_formosus',\n",
       " 'scophthalmus_maximus',\n",
       " 'seriola_dumerili',\n",
       " 'seriola_lalandi_dorsalis',\n",
       " 'sinocyclocheilus_grahami',\n",
       " 'sparus_aurata',\n",
       " 'sphenodon_punctatus',\n",
       " 'stegastes_partitus',\n",
       " 'strigops_habroptila',\n",
       " 'struthio_camelus_australis',\n",
       " 'sus_scrofa',\n",
       " 'taeniopygia_guttata',\n",
       " 'takifugu_rubripes',\n",
       " 'terrapene_carolina_triunguis',\n",
       " 'tetraodon_nigroviridis',\n",
       " 'ursus_americanus',\n",
       " 'vombatus_ursinus',\n",
       " 'vulpes_vulpes',\n",
       " 'xenopus_tropicalis',\n",
       " 'xiphophorus_maculatus']"
      ]
     },
     "execution_count": 36,
     "metadata": {},
     "output_type": "execute_result"
    }
   ],
   "source": [
    "homologous_species_list.sort()\n",
    "homologous_species_list"
   ]
  },
  {
   "cell_type": "code",
   "execution_count": 4,
   "metadata": {},
   "outputs": [
    {
     "name": "stdout",
     "output_type": "stream",
     "text": [
      "Found 159 hits from query\n"
     ]
    },
    {
     "data": {
      "text/plain": [
       "96"
      ]
     },
     "execution_count": 4,
     "metadata": {},
     "output_type": "execute_result"
    }
   ],
   "source": [
    "hit_n = len(r['hits'])\n",
    "print(f'Found {hit_n} hits from query')\n",
    "\n",
    "ensembl_hits = [ hit['_id'] for hit in r['hits'] if 'ENS' in hit['_id'] ] #get all ensembl hits and their ids\n",
    "\n",
    "len(ensembl_hits)"
   ]
  },
  {
   "cell_type": "code",
   "execution_count": 11,
   "metadata": {},
   "outputs": [
    {
     "name": "stdout",
     "output_type": "stream",
     "text": [
      "Found 159 hits from query\n"
     ]
    },
    {
     "data": {
      "text/plain": [
       "96"
      ]
     },
     "execution_count": 11,
     "metadata": {},
     "output_type": "execute_result"
    }
   ],
   "source": [
    "'''From Ensembl docs : \n",
    "Format\n",
    "Stable IDs are created in the form ENS[species prefix][feature type prefix][a unique eleven digit number]. For example a mouse gene might be ENSMUSG###########. \n",
    "This means that we can immediately tell from a stable ID what kind of feature they refer to and what species they are in. The prefixes are listed on our prefix page.\n",
    "\n",
    "----\n",
    "\n",
    "Since i only need to look at human, i need to only get ids with species prefix : ENS\n",
    "'''\n",
    "\n"
   ]
  },
  {
   "cell_type": "code",
   "execution_count": null,
   "metadata": {},
   "outputs": [],
   "source": []
  },
  {
   "cell_type": "code",
   "execution_count": 13,
   "metadata": {},
   "outputs": [
    {
     "data": {
      "text/plain": [
       "'ENSG00000258839'"
      ]
     },
     "execution_count": 13,
     "metadata": {},
     "output_type": "execute_result"
    }
   ],
   "source": [
    "'''HOW TO GET HUMAN ENSMBL RECORD?'''\n",
    "ensembl_hits\n",
    "'ENSG00000258839' in ensembl_hits\n",
    "human_ensembl_id ='ENSG00000258839'\n",
    "human_ensembl_id"
   ]
  },
  {
   "cell_type": "code",
   "execution_count": 18,
   "metadata": {},
   "outputs": [
    {
     "data": {
      "text/plain": [
       "{'seq': 'TGAGGGCAGTGCCCAGAATTGAAGGCGAAGCCCCAGAAGCATGTTTTGCAGAGAAGTGCCCAGGGAAGCTCTGAGGGCCCATGTAGCAAAGATCAGGGGATAGTCGGTCTGAGGGTGAATGGGCCACTCGGACCAAGACCCCAGTCTTGGGGGAGGGCTTAGCTGGAGCAGGTCCTGGCACAGTTGACTGATGGTGCACAGAACCCGTGCATCCCACGGCCCCACGGTGCTGCAGCTGCAGGAGGGGCGGAGGCTGCAGCCAGACAGCATCAGAAGCCAGCGTGGTTCTGGAAGGATCGAGAACACCAAGGTGTTAGGGCTGCAGCAGGGGTCCTGTCCCCTGGCACCCCTCACCGCCCTAATCTTTTACCCTTAGGAGGCAGCAGACACGAGGGGCTGCCCGAGGCTCTAGGGCGGCCAGTGAGGCAGGAAACATGTTCCAGCCCCAGCTAGGTACTGGTCCGTGGACCCACCTCCCAGAAAGCCCATCACTGTGTAATCGTCTAACCTGGGGCTCGCCGAGGCCTGTGAGTTCATCCTTTTGGCAGTTCCTGGTGTCTCCTTACTCTGCTCAGCATTTCCTGGGCGGGAGCTTAGGGTGCAGGACCCTCCCCAGGACGACGAGGGCCCAGTGTCCATGACAAGAGTTGGCCCGAGGGCTGAGCCACGTGTGCCCATCTCAGACGTGGGCCTGAGGGTGCAGCCCTGGCCCTGTGCTGGCCATTTCTAGGAGCGGTGCCCTGAGGTCCCAGCTGTGATAGCCCCACGCTCTGCAGGAAGAGATCATGGGGGCGGGGAGTTGGTGCTGCGGCCTCGTTCCTCTCTGCAGTGAGTGAACGATGTTTGTGGTCAGCAGGAGCCTGTGGGGAGCACAGGCTGGTCCTCCTGGTGTCCCACCCACCCCTTTTTCCATGGGGGATCTGCACTCATCTCCAGGGAAGATGGTTGGGAGATAACCCCAGTCTGCTCTAGGTCCCCACCCTCCACAGCCAGGGTGGTCCGTGGTGAGCTTCAGCCATCGAGATGCGGGAGTCTGCTAGAGTCTTCAGGGTCTTTTCTCTGAAAATGACAGGCTAGCAAGGAGACCTGGGTCCCCTGCCTCTTCCATTCCAGATGCCTTGAGTCCACCCAAATAGGGGATGTGATGTTTGGAGCTGCAGCAGCCGCCCTACGGTTGGGAGTCAGAGAAGAGCCGGTGTTCCAGGGACAATGCAGCAGAGGCTGAGCCCAGGCCTGCTGTCCTGAGAGGTGGCTGGATCACTGACACTTTGGCAGTGGTGCTGGGGTTTATGTCATGACCTGCAGCTGAGCCTACTTCCAATGACCGTGAGATCTGAAAGACTGTTTTGAGGGCGTAGCCTCTGCCATGATTGTGGGGAATGCTGTCCTGTTTCCTCCCTTGGCCCTGCTCAGCCCAGCGAGAGGCTGAGGCGCACGTGGCTCCCCGGGTGCCCACAGGCAGCGTGGCTCACCAGCCGGGCCCTTTTCCACTGAGCCAGAACCCCCCAAAGCCTTCAATGCAGGCACCACGGTGAGCCCACGAGAAACCCTGCTTGCCACCTCCCACACCCCCACCCCCAAGTTCAAAGGAAATGGTCCCTGAACCAAGGGCTGAGATCAGCTGTGGGTCCAGCTGTCCTGGGGAGCTGTACTGGAGCCCACCACGGTGGGACTGTTGGTCCGGCGGTGACCCCCACCTCCATGTCTGTGGCCGCAGCTGGACAGGCCACTCCCTGGGCCACAGAGATGTTTTACCTCTCGCAGCCCTCGGGCACACATTGAGCAGATGTGTGTGTGTGTGCGTGTGTGGGTGGGTGCGCATTTGTGTGTGCCTGTGTGTGTGCGCATGTGGTGTGGGTGCACGTGTGTGCACGTGTGTGGGTAAACATTGTGTGTGCGCATACGTGTGTGGGTAAACATTTGTATGTGCACGCGTGTGTGGGTAAACGTGTGTGCGCACGTATGTATGTGTGTACATTTGTATGTGTGTACATTTGTATGCATGTGTGCCTGTGTGTGTGTGCCTGTGTGTGTGGGTGCACATTTGTGTGTGTGTGTGTGCCTGTGTGTGTGTGTGCACGTATGTATGTGTGCACACTTGTATGCATGTGTGCCTGTGTGTGTGGGTGCACATTTGTGTGTGTGTGCCTGTGTGTGTGGGTGCACATTTGTGTGTGTGGGTGCACATTTGTGTGTGTGTGCGCCTGTGTGGGTGCACATTTGTGTGTGTGTGTGCCTGTGTGTGTGCCTGTGTGTGTGGGTGCCTGTGTGTGTGGGGCACATTTGTGTGTGTGTGTGCCTGTGTGTGGGTGCACATTTGTGTGTGTGCCTCTGTGTGTGTGCCTGTGTGTGGGGGTGCACATTTGTGTGTGCGCCTGTGTGTGGGGGTGCACATTTGTGTGTGCGCCTGTGTGTGTGGGTGCACATTTGTGTGTGTGTGCGCCTGTGTGTGTGGGTGCCTGTGTGTGTGTGGGGCACATTTGTGTGTGTGTGTGTGCCTGTGTGTGGGTGCACATTTGTGTGTGTGCCTGTGTGTGTGTGCCTGTGTGTGGGGGTGCACATTTGTGTGTGTGTGTGCCTGTGTGTGGGGGTGCACATTTGTGTGTGTGTGTGCCTGTGTGTGTGGGTGCACATTTGTGTGTGTGTGTGCCTGTGTGTGTGGGTGCACATTTGTGTGTGTGTGCCTGTGTGTGTGGGTGCACATTTGTGTGTGTGTGTGCCTGTGTGTGTGGGTGCACATTTGTGTGTGTGCCTGTGTGTGGGTGCACATTTGTGTGTGTGTGCCTGTGTGTGTGTGCCTGTGTGTGTGGGTGCACATTTGTGTGTGTGTGTGCCTGTGTGTGTGGGTGCACATTTGTGTGTGTGTGTGTGCCTGTGTGTGTGTTGCAGGCCCTGGATGCCAGACACTGAATAAACGCAGGAAGACGTCTGTCTTCATTCTCCTCGTGGGTCGCTGGTCCAGAAACACCTGGATGGAAAGTGCTCTGCAGGAACGGTGCCTCTGCCTGTGGCGGGGACCCTGGTGAGCGGATGGGCCAGCCCCACGTGTCTTCCGGCCACTCAGCATGCAGTGTTTCCAGGGGCACTAAGAGACCAAAATCGAGATATGATTAGCTGTAGGATGTCATCTAATCACAGATCATCCCGAGGCTAATTTATCTCCCCCATGACCATAACACATCAAAAAGTTGACTTTTTGCAGCTCGGCTGTGCCTCATCTTCCCACGAAGCCCCGACAGGCACATCCAGTGAGGAACCACAGTGGGAGTCCTGTGGCAGGGTCACCCCACTTCCGATGCCCTCCAGCTGCATCTTGGCACGAAAAAGGCTGCCCAGTTCTCATGCCCTTTCAAGTCCCGGGCTGGGGGGTAGCAGTGGAGGCTGGGGTTAACCGCCGTCCGTCTCAAAGGCCTCATTGTGGAGCTGCAAACACGAACGTCCTTGAAATGTGAGGGGACAGTGCTCTGGGGCAGGGGCTGCTCACTGGTTCATGGCCAGAGGTGAGCGGGCTCTGGGTCTGGGTCTGTGAGGTGCTGTGGACGTCGGGGGTGCTCCTGGGGCAGGGACACAGCCACGGCCCTCACACCAGTGGAGCCGTCTTCCTTCCCGAGGCAGAGGCTTGGCCTTCTCACACCTTGGGACCCTTCTCTCCCCTGTGCTCATGCTGGAAGCACAGCGTGAGGGGGCAAAGGTCATGGGAGGCAAAAGGCTGGGCTGAGGCCGAGGCTCTGTGGCTGTGGCCGGATACCAGGTCCTGTGGTGGTGTGGGCAGGGCGCGCTCTCTCCTCTGAGCAGCCTGGGGCTGCGTGTGTGAACAGAAACAGGCCTGCCGATTTGAAGATGGTTTGACCAAGTCTCCCAAAGCTGAAGAGAGGTCCCTGCCCATGTCCCCCGGGTGGCAATCCACAGACGCACCTGTGTCCATCAGACGGTATCGTTGATAGGGAGTCTGAAGCCACCCAGACGTGGTCTGTTCACGCCGTGGACACCACGGTCTGAGGCAGACGGTTACAGCCACCGGCATAGGCGAATCTCAGCCAGAGAGAGTGAACTGGGACACCATTCACGTGATGGGCCAGATGGGCTGGCAGCGGCTCGCTGGAGCCGTCCGGGTGGGAACGCTGTGTCTGTTGGTCTGGTGCTGCTTATGTGGCTGGTTCAGGTCTGTCATCCGTCAACCTGCATATTTATCACTGGTGCATTTTCATGTATGTTGTACCTCAATTAAAACATTTTAGGGCCGGGCGCGGTGGCTCACGCCTGTAATCCCAGCACTGTGGGAGGCGGAGGCGGGAGGATCATGAGGTCAGGAGATCAAGACCGTCCTGGCCAACATGGTGAAACCCCATCTCTACTAAAAAAAATACAAAAATTTGCCGGGTGTGGCGGCACGCGCCTGTAGTTCCAGCTACTCAGGAGGCTGAGGTATGAGAATTACTTGAACCCAGTAGGCAGAGGCTACCGTGAGCCAAGATCATGCCACTGCACTCCAGCCTGGGTGACAGTGAGACTTCGTCTCAAAAAAAAAAAAAAAAAAATTAAAGCAGATGGGGTGTGGGGGCTCATCCCTGTAATCTCAGCATTTTGGGAGGCTGAGGCGGACCGATCACCTGAGGTCAGGAGTTCAAGACCAGCCTGGTCAACATGGTGAAACCTCATCTCTACAAAAAATACAAAAAATAGCCAGGTGTGGTAGTGGGTGCCGTAGTCCCAGCTAGTTGGGAGGCTGAGGCATAAGTATTGCTTGAATCCAGAAGGTGGAGGTTGCAGTGAGCCAAGAATGCACCACTACACTCCAGCCTGCGCGACAGAGTGAAACTGTCTCAAAATAAATAAATACATAAAAATTATATGTATATATATATATATATATATTTTTTTTTTTTTGAGACTGTATCTCTGTTTCCCAGGCTGGAGTGCAGTGGTGTGATCTCGGCTCACTGCAACCTCCGCCTCCTGGGTTCAAGCAATTCTGCCTCAGCCTCCCAAGTAGCTGGGATTATAGGCGTGCGCCACCACGCCTGGCTGATTTTTGTATTTTTAGTAGAGATGGAGTTTCACCATATTACCCAAGCTGGTCTTGAACTCCTGACCTCATGATCCGCCTGCCTCAGCCTCCCAAAGTGCTGAGATTATAGGGGTGAGCCACTGTGCCCGGCAATAATAATTTTTTTTTTTTTTGAGACAGAGTTTTGCTCTTGTTGCCCAGGCTGGAGTGCAATGGTGCAATCTCGGCTCACGGCAACCTCCGCCTCTCATGTTCAAGCTATTATCCTGACTCAGCTGGGATTACAGGCACCCACCACCACACCTGGCTGATTTTGGTATTTTTAGTAGAGACGGGGTTTCTCCATGTCGGCCAGGCTGGTCTCGAACTCCTGACCTCAGGTGATCCACCCGCCTTGGGCTCCCAAAGTGCTGGGATTACAGCCCTGAGCCACCATGGCTGACAATAATAAAAAATTTTAAAGCAAAACTAAAGATTTATAAATTGTAAAATGCGGTTGTAACAAGTATTTACTGTACCAGTAAATATGAAAAATATTAATGTCCTCACACACATGGAGGTGGCTTGTGAGTGGTGTGAGCATTTCATGGTCAGAGTTTGGCAGTTGGGCGAGAGACAGGATGGATTTTAACTCGAACATCGCAGACACAAAACTGAAAACCCTGATGCGGTGCCTGCACCGTTGCCTCCTTTCCTGCAGCTGTAAATGGGACGAGTAATTCCATCCCCCTCCCGCTTCCACCCTTCAGCACAGACGCAGTCTTCAGCAAGGAAGTGCTGGGAACGCCCTGGAGTGAACCCAGGAAGATGCCTGCAGTGGGTGCCAGGGCCCCTCTCCACCGTCCCTGCTGGGCTTCGGGGCCACGCCCGACTGCTGTGAACGGCCTGCGGAGCACCACGTGCGACGGCTGGAGGCGAGAGGTCTGCCTTTGATGTGGCTGTTGGTGCAGGGCCTGTGGTGCCTTCCGCAGCGGAAATGGCGCGCCGCCCGGGGAGGGCGGGAGCAGCGTCCCGGGTGCCCCTGTGAGGATGAGCGACGAGATGACTGGAGGGTCCCTGAAGACCTCACTAGGGTGCCCCCAGCCGGTCCGCTCCCAGGAAGCGACACCCCCACAGCCCCAGGGCTGCAGCTGAGGGGGTCGCCACTCTGGCTGGGCGAGGCTGGGCCCTTGGGGGCAGGCGCCAGAGTGGCCTCAGGCTCTACAAGATGCCTGAAAACACCAACCTCTCCAGGGCTCACTAGCATTGGACGCTTTCACGCTCTGCCCTGGCCGGAAGCCCCCTCACCCCGCGCGATGTGCAAACTCCTGCAGGGCTCACTCAGTTTCCAGAACTTTAATTATTGGAAAGTTCTCCCTGGTCCAGCCCCCAAATCTGCCGTGAACGTTGACAGCTGAGTTGCTGCTCCATGCGTGCTTTGGCTGAGAGCAGAGGGGACCCCTGTCCTCCCTGAGCTGCTGACGAGGGGAGGGGTGAAGGGTGGGGCCTCTGGAGAGGGCAGGTCCCGGGGAAGCTCCGGACTCCTAGAGGGGCGGCCAGGTGGGGGCCCTGGTGACCAGGACAGACTGTGGTGTTTTTTAACGTAAAGGAGATCCGCGGTGTGAGGGACCCCCTGGGTCCTGCACGCCGCCTGGTGGCAGGCCGGGCCATGGTGGGTGCTCACGCCCCCGGCATGTGGCCGCCCTCAGTGGGAGGGGCTCTGAGAACGACTTTTTAAAACGCAGAGAAAAGCTCCATTCTTCCCAGGACCTCAGCGCAGCCCTGGCCCAGGAAGGCAGGAGACAGAGGCCAGGACGGTCCAGAGGTGTCGAAATGTCCTGGGGACCTGAGCAGCAGCCACCAGGGAAGAGGCAGGGAGGGAGCTGAGGACCAGGCTTGGTTGTGAGAATCCCTGAGCCCAGGCGGTAGATGCCAGGAGGTGTCTGGACTGGCTGGGCCATGCCTGGGCTGACCTGTCCAGCCAGGGAGAGGGTGTGAGGGCAGATCTGGGGGTGCCCAGATGGAAGGAGGCAGGCATGGGGGACACCCAAGGCCCCCTGGCAGCACCATGAACTAAGCAGGACACCTGGAGGGGAAGAACTGTGGGGACCTGGAGGCCTCCAACGACTCCTTCCTGCTTCCTGGACAGGACTATGGCTGTGCAGGGATCCCAGAGAAGACTTCTGGGCTCCCTCAACTCCACCCCCACAGCCATCCCCCAGCTGGGGCTGGCTGCCAACCAGACAGGAGCCCGGTGCCTGGAGGTGTCCATCTCTGACGGGCTCTTCCTCAGCCTGGGGCTGGTGAGCTTGGTGGAGAACGCGCTGGTGGTGGCCACCATCGCCAAGAACCGGAACCTGCACTCACCCATGTACTGCTTCATCTGCTGCCTGGCCTTGTCGGACCTGCTGGTGAGCGGGAGCAACGTGCTGGAGACGGCCGTCATCCTCCTGCTGGAGGCCGGTGCACTGGTGGCCCGGGCTGCGGTGCTGCAGCAGCTGGACAATGTCATTGACGTGATCACCTGCAGCTCCATGCTGTCCAGCCTCTGCTTCCTGGGCGCCATCGCCGTGGACCGCTACATCTCCATCTTCTACGCACTGCGCTACCACAGCATCGTGACCCTGCCGCGGGCGCGGCGAGCCGTTGCGGCCATCTGGGTGGCCAGTGTCGTCTTCAGCACGCTCTTCATCGCCTACTACGACCACGTGGCCGTCCTGCTGTGCCTCGTGGTCTTCTTCCTGGCTATGCTGGTGCTCATGGCCGTGCTGTACGTCCACATGCTGGCCCGGGCCTGCCAGCACGCCCAGGGCATCGCCCGGCTCCACAAGAGGCAGCGCCCGGTCCACCAGGGCTTTGGCCTTAAAGGCGCTGTCACCCTCACCATCCTGCTGGGCATTTTCTTCCTCTGCTGGGGCCCCTTCTTCCTGCATCTCACACTCATCGTCCTCTGCCCCGAGCACCCCACGTGCGGCTGCATCTTCAAGAACTTCAACCTCTTTCTCGCCCTCATCATCTGCAATGCCATCATCGACCCCCTCATCTACGCCTTCCACAGCCAGGAGCTCCGCAGGACGCTCAAGGAGGTGCTGACATGCTCCTGGTGAGCGCGGTGCACGCGGCTTTAAGTGTGCTGGGCAGAGGGAGGTGGTGATATTGTGTGGTCTGGTTCCTGTGTGACCCTGGGCAGTTCCTTACCTCCCTGGTCCCCGTTTGTCAAAGAGGATGGACTAAATGATCTCTGAAAGTGTTGAAGCGCGGACCCTTCTGGGTCCAGGGAGGGGTCCCTGCAAAACTCCAGGCAGGACTTCTCACCAGCAGTCGTGGGGAACGGAGGAGGACATGGGGAGGTTGTGGGGCCTCAGGCTCCGGGCACCAGGGGCCAACCTCAGGCTCCTAAAGAGACATTTTCCGCCCACTCCTGGGACACTCCGTCTGCTCCAATGACTGAGCAGCATCCACCCCACCCCATCTTTGCTGCCAGCTCTCAGGACCGTGCCCTCGTCAGCTGGGATGTGAAGTCTCTGGGTGGAAGTGTGTGCCAAGAGCTACTCCCACAGCAGCCCCAGGAGAAGGGGCTTTGTGACCAGAAAGCTTCATCCACAGCCTTGCAGCGGCTCCTGCAAAAGGAGGTGAAATCCCTGCCTCAGGCCAAGGGACCAGGTTTGCAGGAGCCCCCCTAGTGGTATGGGGCTGAGCCCTCCTGAGGGCCGGTTCTAAGGCTCAGACTGGGCACTGGGGCCTCAGCCTGCTTTCCTGCAGCAGTCGCCCAAGCAGACAGCCCTGGCAAATGCCTGACTCAGTGACCAGTGCCTGTGAGCATGGGGCCAGGAAAGTCTGGTAATAAATGTGACTCAGCATCACCCAC',\n",
       " 'desc': 'chromosome:GRCh38:16:89912119:89920973:1',\n",
       " 'id': 'ENSG00000258839',\n",
       " 'version': 4,\n",
       " 'molecule': 'dna',\n",
       " 'query': 'ENSG00000258839'}"
      ]
     },
     "execution_count": 18,
     "metadata": {},
     "output_type": "execute_result"
    }
   ],
   "source": [
    "'''Use human ensembl id to get info on nucleotide sequence'''\n",
    "human_ensembl_id = get_ENS_gene_id('MC1R')\n",
    "json_header = {'Content-Type': 'application/json'}\n",
    "ensembl_server = 'http://rest.ensembl.org'\n",
    "#endpoint = f'/lookup/id/{human_ensembl_id}'\n",
    "endpoint = f'/sequence/id/{human_ensembl_id}?context-type=text/plain'\n",
    "\n",
    "r = requests.get(ensembl_server+endpoint, headers = json_header)\n",
    "r = r.json()\n",
    "r\n",
    "\n",
    "'''Write to a FASTA'''\n",
    "with open('MC1R.fasta','w') as fasta:\n",
    "    fasta.write('>MC1R\\n')\n",
    "    fasta.write(r['seq'])\n",
    "\n",
    "\n",
    "r"
   ]
  },
  {
   "cell_type": "code",
   "execution_count": 43,
   "metadata": {},
   "outputs": [
    {
     "data": {
      "text/plain": [
       "'ATGCTGAGTGGCCGGAAGACACGTGGGGCTGGCCCATCCGCTCACCAGGGTCCCCGCCACAGGCAGAGGCACCGTTCCTGCAGAGCACTTTCCATCCAGGTGTTTCTGGACCAGCGACCCACGAGGAGAATGAAGACAGACGTCTTCCTGCGTTTATTCAGTGTCTGGCATCCAGGGCCTGCAACACACACACAGGCACACACACACACACAAATGTGCACCCACACACACAGGCACACACACACACAAATGTGCACCCACACACACAGGCACACACACACAGGCACACACACACAAATGTGCACCCACACACAGGCACACACACAAATGTGCACCCACACACACAGGCACACACACACACAAATGTGCACCCACACACACAGGCACACACACACAAATGTGCACCCACACACACAGGCACACACACACACAAATGTGCACCCACACACACAGGCACACACACACACAAATGTGCACCCCCACACACAGGCACACACACACACAAATGTGCACCCCCACACACAGGCACACACACACAGGCACACACACAAATGTGCACCCACACACAGGCACACACACACACACAAATGTGCCCCACACACACACAGGCACCCACACACACAGGCGCACACACACACAAATGTGCACCCACACACACAGGCGCACACACAAATGTGCACCCCCACACACAGGCGCACACACAAATGTGCACCCCCACACACAGGCACACACACAGAGGCACACACACAAATGTGCACCCACACACAGGCACACACACACACAAATGTGCCCCACACACACAGGCACCCACACACACAGGCACACACACAGGCACACACACACACAAATGTGCACCCACACAGGCGCACACACACACAAATGTGCACCCACACACACAAATGTGCACCCACACACACAGGCACACACACACAAATGTGCACCCACACACACAGGCACACATGCATACAAGTGTGCACACATACATACGTGCACACACACACACAGGCACACACACACACACAAATGTGCACCCACACACACAGGCACACACACACAGGCACACATGCATACAAATGTACACACATACAAATGTACACACATACATACGTGCGCACACACGTTTACCCACACACGCGTGCACATACAAATGTTTACCCACACACGTATGCGCACACACAATGTTTACCCACACACGTGCACACACGTGCACCCACACCACATGCGCACACACACAGGCACACACAAATGCGCACCCACCCACACACGCACACACACACACATCTGCTCAATGTGTGCCCGAGGGCTGCGAGAGGTAAAACATCTCTGTGGCCCAGGGAGTGGCCTGTCCAGCTGCGGCCACAGACATGGAGGTGGGGGTCACCGCCGGACCAACAGTCCCACCGTGGTGGGCTCCAGTACAGCTCCCCAGGACAGCTGGACCCACAGCTGATCTCAGCCCTTGGTTCAGGGACCATTTCCTTTGAACTTGGGGGTGGGGGTGTGGGAGGTGGCAAGCAGGGTTTCTCGTGGGCTCACCGTGGTGCCTGCATTGAAGGCTTTGGGGGGTTCTGGCTCAGTGGAAAAGGGCCCGGCTGG'"
      ]
     },
     "execution_count": 43,
     "metadata": {},
     "output_type": "execute_result"
    }
   ],
   "source": [
    "'''Find ORFs. Using code from StackOverflow'''\n",
    "import re\n",
    "\n",
    "def findOrfs(sequence):\n",
    "    '''Function to take a DNA sequence and return a list of all the ORFs sorted from longest to shortest.'''\n",
    "    def revcomp(sequence):\n",
    "        '''reverse compliment dna'''\n",
    "        compl_trans = str.maketrans(\"ATGC\", \"TACG\")  # create the complimentary tranlsation\n",
    "        #seq = seq.translate(compl_trans)\n",
    "        return sequence[::-1].translate(compl_trans)\n",
    "    pattern = re.compile(r'(?=(ATG(?:...)*?)(?=TAG|TGA|TAA))') #regex pattern for orfs\n",
    "    orfs = list(set(pattern.findall(sequence) + pattern.findall(revcomp(sequence)))) #find orfs by regex, then set to remove duplicates, save as list\n",
    "    orfs.sort(key=len) #sort shortest to longest\n",
    "    return orfs[::-1] #return reversed to deliver longest to shortest \n",
    "\n",
    "orf = findOrfs(r['seq'])[0] #get longest orf\n",
    "orf"
   ]
  },
  {
   "cell_type": "code",
   "execution_count": 17,
   "metadata": {},
   "outputs": [
    {
     "ename": "ModuleNotFoundError",
     "evalue": "No module named 'Bio'",
     "output_type": "error",
     "traceback": [
      "\u001b[1;31m---------------------------------------------------------------------------\u001b[0m",
      "\u001b[1;31mModuleNotFoundError\u001b[0m                       Traceback (most recent call last)",
      "Input \u001b[1;32mIn [17]\u001b[0m, in \u001b[0;36m<cell line: 2>\u001b[1;34m()\u001b[0m\n\u001b[0;32m      1\u001b[0m \u001b[38;5;124;03m'''translate orf'''\u001b[39;00m\n\u001b[1;32m----> 2\u001b[0m \u001b[38;5;28;01mfrom\u001b[39;00m \u001b[38;5;21;01mBio\u001b[39;00m\u001b[38;5;21;01m.\u001b[39;00m\u001b[38;5;21;01mSeq\u001b[39;00m \u001b[38;5;28;01mimport\u001b[39;00m Seq\n\u001b[0;32m      4\u001b[0m seq \u001b[38;5;241m=\u001b[39m Seq(orf)\n\u001b[0;32m      5\u001b[0m aa_seq \u001b[38;5;241m=\u001b[39m \u001b[38;5;28mstr\u001b[39m(seq\u001b[38;5;241m.\u001b[39mtranslate())\n",
      "\u001b[1;31mModuleNotFoundError\u001b[0m: No module named 'Bio'"
     ]
    }
   ],
   "source": [
    "'''translate orf'''\n",
    "from Bio.Seq import Seq\n",
    "\n",
    "seq = Seq(orf)\n",
    "aa_seq = str(seq.translate())\n",
    "\n"
   ]
  },
  {
   "cell_type": "code",
   "execution_count": null,
   "metadata": {},
   "outputs": [],
   "source": []
  }
 ],
 "metadata": {
  "kernelspec": {
   "display_name": "Python 3 (ipykernel)",
   "language": "python",
   "name": "python3"
  },
  "language_info": {
   "codemirror_mode": {
    "name": "ipython",
    "version": 3
   },
   "file_extension": ".py",
   "mimetype": "text/x-python",
   "name": "python",
   "nbconvert_exporter": "python",
   "pygments_lexer": "ipython3",
   "version": "3.9.12"
  },
  "vscode": {
   "interpreter": {
    "hash": "63e98040c98b81208f261101c93dea161ee9d24454a237a9c1665570ecebea41"
   }
  }
 },
 "nbformat": 4,
 "nbformat_minor": 2
}
